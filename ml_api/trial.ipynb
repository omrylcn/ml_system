{
 "cells": [
  {
   "cell_type": "code",
   "execution_count": null,
   "metadata": {},
   "outputs": [],
   "source": [
    "from api.app import create_app"
   ]
  },
  {
   "cell_type": "code",
   "execution_count": null,
   "metadata": {},
   "outputs": [],
   "source": [
    "from flask import Flask"
   ]
  },
  {
   "cell_type": "code",
   "execution_count": null,
   "metadata": {},
   "outputs": [],
   "source": [
    "app=Flask(\"ml_api\")"
   ]
  },
  {
   "cell_type": "code",
   "execution_count": null,
   "metadata": {},
   "outputs": [],
   "source": [
    "app.config.from_object()"
   ]
  },
  {
   "cell_type": "code",
   "execution_count": null,
   "metadata": {},
   "outputs": [],
   "source": [
    "b=Blueprint(\"test_app\",\"test\")"
   ]
  },
  {
   "cell_type": "code",
   "execution_count": null,
   "metadata": {},
   "outputs": [],
   "source": [
    "b.route"
   ]
  },
  {
   "cell_type": "code",
   "execution_count": null,
   "metadata": {},
   "outputs": [],
   "source": [
    "app.register_blueprint"
   ]
  },
  {
   "cell_type": "code",
   "execution_count": null,
   "metadata": {},
   "outputs": [],
   "source": [
    "from api.config import DevelopmentConfig"
   ]
  },
  {
   "cell_type": "code",
   "execution_count": null,
   "metadata": {},
   "outputs": [],
   "source": [
    "DevelopmentConfig"
   ]
  },
  {
   "cell_type": "code",
   "execution_count": null,
   "metadata": {},
   "outputs": [],
   "source": [
    "DevelopmentConfig.SERVER_PORT"
   ]
  },
  {
   "cell_type": "code",
   "execution_count": null,
   "metadata": {},
   "outputs": [],
   "source": [
    "from flask import Blueprint, request, jsonify"
   ]
  },
  {
   "cell_type": "code",
   "execution_count": null,
   "metadata": {},
   "outputs": [],
   "source": [
    "Blueprint"
   ]
  },
  {
   "cell_type": "code",
   "execution_count": null,
   "metadata": {},
   "outputs": [],
   "source": [
    "from api import confiag"
   ]
  },
  {
   "cell_type": "code",
   "execution_count": null,
   "metadata": {},
   "outputs": [],
   "source": []
  },
  {
   "cell_type": "code",
   "execution_count": null,
   "metadata": {},
   "outputs": [],
   "source": [
    "config.LOG_FILE"
   ]
  },
  {
   "cell_type": "code",
   "execution_count": 1,
   "metadata": {},
   "outputs": [],
   "source": [
    "import pandas as pd \n",
    "import json\n",
    "\n",
    "from api.app import create_app\n",
    "from api.config import DevelopmentConfig,TestingConfig\n",
    "\n",
    "\n",
    "application = create_app(\n",
    "    config_object=TestingConfig)"
   ]
  },
  {
   "cell_type": "code",
   "execution_count": 2,
   "metadata": {},
   "outputs": [],
   "source": [
    "client=application.app_context().app.test_client()"
   ]
  },
  {
   "cell_type": "code",
   "execution_count": 3,
   "metadata": {},
   "outputs": [
    {
     "data": {
      "text/plain": [
       "{'api_version': '0.2.0', 'model_version': '0.1'}"
      ]
     },
     "execution_count": 3,
     "metadata": {},
     "output_type": "execute_result"
    }
   ],
   "source": [
    "s=client.get(\"/version\")\n",
    "s.get_json()"
   ]
  },
  {
   "cell_type": "code",
   "execution_count": 4,
   "metadata": {},
   "outputs": [],
   "source": [
    "s=pd.read_csv(\"test.csv\")[:1]\n",
    "#s=pd.DataFrame({\"Id\":[2],\"Street\":[\"OASD\"]})"
   ]
  },
  {
   "cell_type": "code",
   "execution_count": 5,
   "metadata": {},
   "outputs": [],
   "source": [
    "s.Id=s.Id.astype(str)"
   ]
  },
  {
   "cell_type": "code",
   "execution_count": 6,
   "metadata": {},
   "outputs": [],
   "source": [
    "j=s.to_json(orient=\"records\")"
   ]
  },
  {
   "cell_type": "code",
   "execution_count": 7,
   "metadata": {},
   "outputs": [
    {
     "name": "stdout",
     "output_type": "stream",
     "text": [
      "None\n"
     ]
    }
   ],
   "source": [
    "r=client.post('/v1/predict',json=json.loads(j))\n"
   ]
  },
  {
   "cell_type": "code",
   "execution_count": 8,
   "metadata": {},
   "outputs": [
    {
     "data": {
      "text/plain": [
       "b'{\"errors\":null,\"input_data\":[{\"1stFlrSF\":896,\"2ndFlrSF\":0,\"3SsnPorch\":0,\"Alley\":null,\"BedroomAbvGr\":2,\"BldgType\":\"1Fam\",\"BsmtCond\":\"TA\",\"BsmtExposure\":\"No\",\"BsmtFinSF1\":468.0,\"BsmtFinSF2\":144.0,\"BsmtFinType1\":\"Rec\",\"BsmtFinType2\":\"LwQ\",\"BsmtFullBath\":0.0,\"BsmtHalfBath\":0.0,\"BsmtQual\":\"TA\",\"BsmtUnfSF\":270.0,\"CentralAir\":\"Y\",\"Condition1\":\"Feedr\",\"Condition2\":\"Norm\",\"Electrical\":\"SBrkr\",\"EnclosedPorch\":0,\"ExterCond\":\"TA\",\"ExterQual\":\"TA\",\"Exterior1st\":\"VinylSd\",\"Exterior2nd\":\"VinylSd\",\"Fence\":\"MnPrv\",\"FireplaceQu\":null,\"Fireplaces\":0,\"Foundation\":\"CBlock\",\"FullBath\":1,\"Functional\":\"Typ\",\"GarageArea\":730.0,\"GarageCars\":1.0,\"GarageCond\":\"TA\",\"GarageFinish\":\"Unf\",\"GarageQual\":\"TA\",\"GarageType\":\"Attchd\",\"GarageYrBlt\":1961.0,\"GrLivArea\":896,\"HalfBath\":0,\"Heating\":\"GasA\",\"HeatingQC\":\"TA\",\"HouseStyle\":\"1Story\",\"Id\":\"1461\",\"KitchenAbvGr\":1,\"KitchenQual\":\"TA\",\"LandContour\":\"Lvl\",\"LandSlope\":\"Gtl\",\"LotArea\":11622,\"LotConfig\":\"Inside\",\"LotFrontage\":80.0,\"LotShape\":\"Reg\",\"LowQualFinSF\":0,\"MSSubClass\":20,\"MSZoning\":\"RH\",\"MasVnrArea\":0.0,\"MasVnrType\":\"None\",\"MiscFeature\":null,\"MiscVal\":0,\"MoSold\":6,\"Neighborhood\":\"NAmes\",\"OpenPorchSF\":0,\"OverallCond\":6,\"OverallQual\":5,\"PavedDrive\":\"Y\",\"PoolArea\":0,\"PoolQC\":null,\"RoofMatl\":\"CompShg\",\"RoofStyle\":\"Gable\",\"SaleCondition\":\"Normal\",\"SaleType\":\"WD\",\"ScreenPorch\":120,\"Street\":\"Pave\",\"TotRmsAbvGrd\":5,\"TotalBsmtSF\":882.0,\"Utilities\":\"AllPub\",\"WoodDeckSF\":140,\"YearBuilt\":1961,\"YearRemodAdd\":1961,\"YrSold\":2010}],\"predictions\":\"Yok daha\"}\\n'"
      ]
     },
     "execution_count": 8,
     "metadata": {},
     "output_type": "execute_result"
    }
   ],
   "source": [
    "r.get_data()"
   ]
  },
  {
   "cell_type": "code",
   "execution_count": null,
   "metadata": {},
   "outputs": [],
   "source": []
  }
 ],
 "metadata": {
  "kernelspec": {
   "display_name": "Python 3",
   "language": "python",
   "name": "python3"
  },
  "language_info": {
   "codemirror_mode": {
    "name": "ipython",
    "version": 3
   },
   "file_extension": ".py",
   "mimetype": "text/x-python",
   "name": "python",
   "nbconvert_exporter": "python",
   "pygments_lexer": "ipython3",
   "version": "3.6.9"
  }
 },
 "nbformat": 4,
 "nbformat_minor": 4
}
