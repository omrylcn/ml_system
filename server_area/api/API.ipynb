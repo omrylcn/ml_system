{
 "cells": [
  {
   "cell_type": "markdown",
   "metadata": {},
   "source": [
    "- https://www.reddit.com/r/flask/comments/gyf22b/if_you_are_using_flask_you_should_start_using/\n",
    "- https://github.com/tiangolo/fastapi/issues/584\n",
    "- https://stackoverflow.com/questions/53548127/post-numpy-array-with-json-to-flask-app-with-requests\n",
    "- https://towardsdatascience.com/why-we-switched-from-flask-to-fastapi-for-production-machine-learning-765aab9b3679\n",
    "- https://pypi.org/project/schema/\n",
    "- https://medium.com/grammofy/testing-your-python-api-app-with-json-schema-52677fe73351\n",
    "- https://restfulapi.net/json-schema/\n",
    "- Pedantic Configuration Management with Pydantic : https://rednafi.github.io/digressions/python/2020/06/03/python-configs.html\n",
    "- How we validate input data using pydantic:https://datascience.statnett.no/2020/05/11/how-we-validate-data-using-pydantic/\n",
    "- How to parse list of models with Pydantic : https://stackoverflow.com/questions/55762673/how-to-parse-list-of-models-with-pydantic"
   ]
  },
  {
   "cell_type": "code",
   "execution_count": 3,
   "metadata": {},
   "outputs": [],
   "source": []
  },
  {
   "cell_type": "code",
   "execution_count": null,
   "metadata": {},
   "outputs": [],
   "source": []
  },
  {
   "cell_type": "code",
   "execution_count": 157,
   "metadata": {},
   "outputs": [],
   "source": [
    "import requests\n",
    "import json\n",
    "from datetime import datetime\n",
    "import json\n",
    "import pickle\n",
    "\n",
    "# data validate modules\n",
    "from typing import List, Optional\n",
    "from pydantic import BaseModel,parse_obj_as,ValidationError\n",
    "from marshmallow import Schema, fields\n",
    "from marshmallow import ValidationError\n",
    "\n",
    "\n",
    "import numpy as np\n",
    "import scipy as sp\n",
    "import pandas as pd \n",
    "import matplotlib.pyplot as plt \n",
    "from matplotlib import image\n",
    "\n",
    "from api.app import create_app\n",
    "from api.config import DevelopmentConfig,TestingConfig\n",
    "from api.controller import prediction_app\n"
   ]
  },
  {
   "cell_type": "markdown",
   "metadata": {
    "collapsed": "true"
   },
   "source": [
    "## Flaks App Context"
   ]
  },
  {
   "cell_type": "code",
   "execution_count": 6,
   "metadata": {},
   "outputs": [],
   "source": [
    "application = create_app(config_object=TestingConfig)"
   ]
  },
  {
   "cell_type": "code",
   "execution_count": 3,
   "metadata": {},
   "outputs": [],
   "source": [
    "client=application.app_context().app.test_client()"
   ]
  },
  {
   "cell_type": "code",
   "execution_count": 4,
   "metadata": {},
   "outputs": [
    {
     "data": {
      "text/plain": [
       "<Response streamed [404 NOT FOUND]>"
      ]
     },
     "execution_count": 4,
     "metadata": {},
     "output_type": "execute_result"
    }
   ],
   "source": [
    "client.get()"
   ]
  },
  {
   "cell_type": "code",
   "execution_count": 51,
   "metadata": {},
   "outputs": [
    {
     "data": {
      "text/plain": [
       "{'api_version': '0.2.0', 'model_version': '0.1'}"
      ]
     },
     "execution_count": 51,
     "metadata": {},
     "output_type": "execute_result"
    }
   ],
   "source": [
    "s=client.get(\"/version\")\n",
    "s.get_json()"
   ]
  },
  {
   "cell_type": "code",
   "execution_count": 9,
   "metadata": {},
   "outputs": [],
   "source": [
    "s=pd.read_csv(\"test.csv\")[:1]\n",
    "#s=pd.DataFrame({\"Id\":[2],\"Street\":[\"OASD\"]})"
   ]
  },
  {
   "cell_type": "code",
   "execution_count": 11,
   "metadata": {},
   "outputs": [
    {
     "data": {
      "text/plain": [
       "'[{\"Id\":\"1461\",\"MSSubClass\":20,\"MSZoning\":\"RH\",\"LotFrontage\":80.0,\"LotArea\":11622,\"Street\":\"Pave\",\"Alley\":null,\"LotShape\":\"Reg\",\"LandContour\":\"Lvl\",\"Utilities\":\"AllPub\",\"LotConfig\":\"Inside\",\"LandSlope\":\"Gtl\",\"Neighborhood\":\"NAmes\",\"Condition1\":\"Feedr\",\"Condition2\":\"Norm\",\"BldgType\":\"1Fam\",\"HouseStyle\":\"1Story\",\"OverallQual\":5,\"OverallCond\":6,\"YearBuilt\":1961,\"YearRemodAdd\":1961,\"RoofStyle\":\"Gable\",\"RoofMatl\":\"CompShg\",\"Exterior1st\":\"VinylSd\",\"Exterior2nd\":\"VinylSd\",\"MasVnrType\":\"None\",\"MasVnrArea\":0.0,\"ExterQual\":\"TA\",\"ExterCond\":\"TA\",\"Foundation\":\"CBlock\",\"BsmtQual\":\"TA\",\"BsmtCond\":\"TA\",\"BsmtExposure\":\"No\",\"BsmtFinType1\":\"Rec\",\"BsmtFinSF1\":468.0,\"BsmtFinType2\":\"LwQ\",\"BsmtFinSF2\":144.0,\"BsmtUnfSF\":270.0,\"TotalBsmtSF\":882.0,\"Heating\":\"GasA\",\"HeatingQC\":\"TA\",\"CentralAir\":\"Y\",\"Electrical\":\"SBrkr\",\"1stFlrSF\":896,\"2ndFlrSF\":0,\"LowQualFinSF\":0,\"GrLivArea\":896,\"BsmtFullBath\":0.0,\"BsmtHalfBath\":0.0,\"FullBath\":1,\"HalfBath\":0,\"BedroomAbvGr\":2,\"KitchenAbvGr\":1,\"KitchenQual\":\"TA\",\"TotRmsAbvGrd\":5,\"Functional\":\"Typ\",\"Fireplaces\":0,\"FireplaceQu\":null,\"GarageType\":\"Attchd\",\"GarageYrBlt\":1961.0,\"GarageFinish\":\"Unf\",\"GarageCars\":1.0,\"GarageArea\":730.0,\"GarageQual\":\"TA\",\"GarageCond\":\"TA\",\"PavedDrive\":\"Y\",\"WoodDeckSF\":140,\"OpenPorchSF\":0,\"EnclosedPorch\":0,\"3SsnPorch\":0,\"ScreenPorch\":120,\"PoolArea\":0,\"PoolQC\":null,\"Fence\":\"MnPrv\",\"MiscFeature\":null,\"MiscVal\":0,\"MoSold\":6,\"YrSold\":2010,\"SaleType\":\"WD\",\"SaleCondition\":\"Normal\"}]'"
      ]
     },
     "execution_count": 11,
     "metadata": {},
     "output_type": "execute_result"
    }
   ],
   "source": [
    "j=s.to_json(orient=\"records\")\n",
    "j"
   ]
  },
  {
   "cell_type": "markdown",
   "metadata": {
    "collapsed": "true"
   },
   "source": [
    "## Test API With Request"
   ]
  },
  {
   "cell_type": "code",
   "execution_count": 36,
   "metadata": {},
   "outputs": [],
   "source": [
    "# 1 - First run api "
   ]
  },
  {
   "cell_type": "code",
   "execution_count": 40,
   "metadata": {},
   "outputs": [],
   "source": [
    "base_url='http://127.0.0.1:5000/'"
   ]
  },
  {
   "cell_type": "code",
   "execution_count": 41,
   "metadata": {},
   "outputs": [
    {
     "data": {
      "text/plain": [
       "{'api_version': '0.2.0', 'model_version': '0.1'}"
      ]
     },
     "execution_count": 41,
     "metadata": {},
     "output_type": "execute_result"
    }
   ],
   "source": [
    "res=requests.get(base_url+\"version\")\n",
    "res.json()"
   ]
  },
  {
   "cell_type": "code",
   "execution_count": 43,
   "metadata": {},
   "outputs": [
    {
     "data": {
      "text/html": [
       "<div>\n",
       "<style scoped>\n",
       "    .dataframe tbody tr th:only-of-type {\n",
       "        vertical-align: middle;\n",
       "    }\n",
       "\n",
       "    .dataframe tbody tr th {\n",
       "        vertical-align: top;\n",
       "    }\n",
       "\n",
       "    .dataframe thead th {\n",
       "        text-align: right;\n",
       "    }\n",
       "</style>\n",
       "<table border=\"1\" class=\"dataframe\">\n",
       "  <thead>\n",
       "    <tr style=\"text-align: right;\">\n",
       "      <th></th>\n",
       "      <th>longitude</th>\n",
       "      <th>latitude</th>\n",
       "      <th>housing_median_age</th>\n",
       "      <th>total_rooms</th>\n",
       "      <th>total_bedrooms</th>\n",
       "      <th>population</th>\n",
       "      <th>households</th>\n",
       "      <th>median_income</th>\n",
       "      <th>median_house_value</th>\n",
       "      <th>ocean_proximity</th>\n",
       "    </tr>\n",
       "  </thead>\n",
       "  <tbody>\n",
       "    <tr>\n",
       "      <th>0</th>\n",
       "      <td>-121.49</td>\n",
       "      <td>38.58</td>\n",
       "      <td>52.0</td>\n",
       "      <td>569.0</td>\n",
       "      <td>405.0</td>\n",
       "      <td>509.0</td>\n",
       "      <td>367.0</td>\n",
       "      <td>0.9196</td>\n",
       "      <td>137500.0</td>\n",
       "      <td>INLAND</td>\n",
       "    </tr>\n",
       "  </tbody>\n",
       "</table>\n",
       "</div>"
      ],
      "text/plain": [
       "   longitude  latitude  housing_median_age  total_rooms  total_bedrooms  \\\n",
       "0    -121.49     38.58                52.0        569.0           405.0   \n",
       "\n",
       "   population  households  median_income  median_house_value ocean_proximity  \n",
       "0       509.0       367.0         0.9196            137500.0          INLAND  "
      ]
     },
     "execution_count": 43,
     "metadata": {},
     "output_type": "execute_result"
    }
   ],
   "source": [
    "sample_data=pd.read_csv(\"test_data.csv\")[:1]\n",
    "sample_data.head()"
   ]
  },
  {
   "cell_type": "code",
   "execution_count": 55,
   "metadata": {},
   "outputs": [
    {
     "data": {
      "text/plain": [
       "'[{\"longitude\":-121.49,\"latitude\":38.58,\"housing_median_age\":52.0,\"total_rooms\":569.0,\"total_bedrooms\":405.0,\"population\":509.0,\"households\":367.0,\"median_income\":0.9196,\"median_house_value\":137500.0,\"ocean_proximity\":\"INLAND\"}]'"
      ]
     },
     "execution_count": 55,
     "metadata": {},
     "output_type": "execute_result"
    }
   ],
   "source": [
    "s=sample_data.to_json(orient=\"records\")\n",
    "s"
   ]
  },
  {
   "cell_type": "code",
   "execution_count": 52,
   "metadata": {},
   "outputs": [],
   "source": [
    "r=requests.post(base_url+'v1/predict',json=json.loads(s))\n"
   ]
  },
  {
   "cell_type": "code",
   "execution_count": 53,
   "metadata": {},
   "outputs": [
    {
     "data": {
      "text/plain": [
       "{'return': [135112.023080916], 'state': 'ok'}"
      ]
     },
     "execution_count": 53,
     "metadata": {},
     "output_type": "execute_result"
    }
   ],
   "source": [
    "r.json()"
   ]
  },
  {
   "cell_type": "markdown",
   "metadata": {},
   "source": [
    "## Data Validation"
   ]
  },
  {
   "cell_type": "code",
   "execution_count": 378,
   "metadata": {},
   "outputs": [],
   "source": [
    "sample_data=pd.read_csv(\"test_data.csv\")[:12]\n",
    "# drop target column\n",
    "sample_data=sample_data.drop(columns=\"median_house_value\")\n"
   ]
  },
  {
   "cell_type": "code",
   "execution_count": 379,
   "metadata": {},
   "outputs": [
    {
     "data": {
      "text/html": [
       "<div>\n",
       "<style scoped>\n",
       "    .dataframe tbody tr th:only-of-type {\n",
       "        vertical-align: middle;\n",
       "    }\n",
       "\n",
       "    .dataframe tbody tr th {\n",
       "        vertical-align: top;\n",
       "    }\n",
       "\n",
       "    .dataframe thead th {\n",
       "        text-align: right;\n",
       "    }\n",
       "</style>\n",
       "<table border=\"1\" class=\"dataframe\">\n",
       "  <thead>\n",
       "    <tr style=\"text-align: right;\">\n",
       "      <th></th>\n",
       "      <th>longitude</th>\n",
       "      <th>latitude</th>\n",
       "      <th>housing_median_age</th>\n",
       "      <th>total_rooms</th>\n",
       "      <th>total_bedrooms</th>\n",
       "      <th>population</th>\n",
       "      <th>households</th>\n",
       "      <th>median_income</th>\n",
       "      <th>ocean_proximity</th>\n",
       "    </tr>\n",
       "  </thead>\n",
       "  <tbody>\n",
       "    <tr>\n",
       "      <th>0</th>\n",
       "      <td>-121.49</td>\n",
       "      <td>38.58</td>\n",
       "      <td>52.0</td>\n",
       "      <td>569.0</td>\n",
       "      <td>405.0</td>\n",
       "      <td>509.0</td>\n",
       "      <td>367.0</td>\n",
       "      <td>0.9196</td>\n",
       "      <td>INLAND</td>\n",
       "    </tr>\n",
       "    <tr>\n",
       "      <th>1</th>\n",
       "      <td>-117.96</td>\n",
       "      <td>33.83</td>\n",
       "      <td>34.0</td>\n",
       "      <td>982.0</td>\n",
       "      <td>148.0</td>\n",
       "      <td>498.0</td>\n",
       "      <td>156.0</td>\n",
       "      <td>6.3214</td>\n",
       "      <td>&lt;1H OCEAN</td>\n",
       "    </tr>\n",
       "    <tr>\n",
       "      <th>2</th>\n",
       "      <td>-118.28</td>\n",
       "      <td>33.68</td>\n",
       "      <td>8.0</td>\n",
       "      <td>2842.0</td>\n",
       "      <td>522.0</td>\n",
       "      <td>1624.0</td>\n",
       "      <td>510.0</td>\n",
       "      <td>3.7282</td>\n",
       "      <td>NEAR OCEAN</td>\n",
       "    </tr>\n",
       "    <tr>\n",
       "      <th>3</th>\n",
       "      <td>-121.94</td>\n",
       "      <td>37.56</td>\n",
       "      <td>15.0</td>\n",
       "      <td>5674.0</td>\n",
       "      <td>748.0</td>\n",
       "      <td>2412.0</td>\n",
       "      <td>714.0</td>\n",
       "      <td>8.3996</td>\n",
       "      <td>&lt;1H OCEAN</td>\n",
       "    </tr>\n",
       "    <tr>\n",
       "      <th>4</th>\n",
       "      <td>-118.13</td>\n",
       "      <td>33.82</td>\n",
       "      <td>36.0</td>\n",
       "      <td>665.0</td>\n",
       "      <td>114.0</td>\n",
       "      <td>273.0</td>\n",
       "      <td>112.0</td>\n",
       "      <td>3.7321</td>\n",
       "      <td>&lt;1H OCEAN</td>\n",
       "    </tr>\n",
       "    <tr>\n",
       "      <th>5</th>\n",
       "      <td>-117.25</td>\n",
       "      <td>33.93</td>\n",
       "      <td>8.0</td>\n",
       "      <td>10110.0</td>\n",
       "      <td>1761.0</td>\n",
       "      <td>5804.0</td>\n",
       "      <td>1703.0</td>\n",
       "      <td>4.2654</td>\n",
       "      <td>INLAND</td>\n",
       "    </tr>\n",
       "    <tr>\n",
       "      <th>6</th>\n",
       "      <td>-121.49</td>\n",
       "      <td>38.63</td>\n",
       "      <td>6.0</td>\n",
       "      <td>12197.0</td>\n",
       "      <td>2617.0</td>\n",
       "      <td>5634.0</td>\n",
       "      <td>2329.0</td>\n",
       "      <td>3.7449</td>\n",
       "      <td>INLAND</td>\n",
       "    </tr>\n",
       "    <tr>\n",
       "      <th>7</th>\n",
       "      <td>-118.52</td>\n",
       "      <td>34.19</td>\n",
       "      <td>37.0</td>\n",
       "      <td>1892.0</td>\n",
       "      <td>347.0</td>\n",
       "      <td>1039.0</td>\n",
       "      <td>343.0</td>\n",
       "      <td>4.8295</td>\n",
       "      <td>&lt;1H OCEAN</td>\n",
       "    </tr>\n",
       "    <tr>\n",
       "      <th>8</th>\n",
       "      <td>-119.75</td>\n",
       "      <td>34.45</td>\n",
       "      <td>26.0</td>\n",
       "      <td>3578.0</td>\n",
       "      <td>677.0</td>\n",
       "      <td>1504.0</td>\n",
       "      <td>618.0</td>\n",
       "      <td>4.1375</td>\n",
       "      <td>NEAR OCEAN</td>\n",
       "    </tr>\n",
       "    <tr>\n",
       "      <th>9</th>\n",
       "      <td>-117.09</td>\n",
       "      <td>32.66</td>\n",
       "      <td>38.0</td>\n",
       "      <td>833.0</td>\n",
       "      <td>206.0</td>\n",
       "      <td>570.0</td>\n",
       "      <td>182.0</td>\n",
       "      <td>1.8333</td>\n",
       "      <td>NEAR OCEAN</td>\n",
       "    </tr>\n",
       "    <tr>\n",
       "      <th>10</th>\n",
       "      <td>-118.36</td>\n",
       "      <td>34.18</td>\n",
       "      <td>34.0</td>\n",
       "      <td>1471.0</td>\n",
       "      <td>423.0</td>\n",
       "      <td>995.0</td>\n",
       "      <td>386.0</td>\n",
       "      <td>2.9583</td>\n",
       "      <td>&lt;1H OCEAN</td>\n",
       "    </tr>\n",
       "    <tr>\n",
       "      <th>11</th>\n",
       "      <td>-118.30</td>\n",
       "      <td>33.91</td>\n",
       "      <td>30.0</td>\n",
       "      <td>1842.0</td>\n",
       "      <td>476.0</td>\n",
       "      <td>1491.0</td>\n",
       "      <td>420.0</td>\n",
       "      <td>3.0147</td>\n",
       "      <td>&lt;1H OCEAN</td>\n",
       "    </tr>\n",
       "  </tbody>\n",
       "</table>\n",
       "</div>"
      ],
      "text/plain": [
       "    longitude  latitude  housing_median_age  total_rooms  total_bedrooms  \\\n",
       "0     -121.49     38.58                52.0        569.0           405.0   \n",
       "1     -117.96     33.83                34.0        982.0           148.0   \n",
       "2     -118.28     33.68                 8.0       2842.0           522.0   \n",
       "3     -121.94     37.56                15.0       5674.0           748.0   \n",
       "4     -118.13     33.82                36.0        665.0           114.0   \n",
       "5     -117.25     33.93                 8.0      10110.0          1761.0   \n",
       "6     -121.49     38.63                 6.0      12197.0          2617.0   \n",
       "7     -118.52     34.19                37.0       1892.0           347.0   \n",
       "8     -119.75     34.45                26.0       3578.0           677.0   \n",
       "9     -117.09     32.66                38.0        833.0           206.0   \n",
       "10    -118.36     34.18                34.0       1471.0           423.0   \n",
       "11    -118.30     33.91                30.0       1842.0           476.0   \n",
       "\n",
       "    population  households  median_income ocean_proximity  \n",
       "0        509.0       367.0         0.9196          INLAND  \n",
       "1        498.0       156.0         6.3214       <1H OCEAN  \n",
       "2       1624.0       510.0         3.7282      NEAR OCEAN  \n",
       "3       2412.0       714.0         8.3996       <1H OCEAN  \n",
       "4        273.0       112.0         3.7321       <1H OCEAN  \n",
       "5       5804.0      1703.0         4.2654          INLAND  \n",
       "6       5634.0      2329.0         3.7449          INLAND  \n",
       "7       1039.0       343.0         4.8295       <1H OCEAN  \n",
       "8       1504.0       618.0         4.1375      NEAR OCEAN  \n",
       "9        570.0       182.0         1.8333      NEAR OCEAN  \n",
       "10       995.0       386.0         2.9583       <1H OCEAN  \n",
       "11      1491.0       420.0         3.0147       <1H OCEAN  "
      ]
     },
     "execution_count": 379,
     "metadata": {},
     "output_type": "execute_result"
    }
   ],
   "source": [
    "sample_data"
   ]
  },
  {
   "cell_type": "code",
   "execution_count": 380,
   "metadata": {},
   "outputs": [],
   "source": [
    "sample_data.loc[4,\"latitude\"]=\"deneme\"\n",
    "sample_data.loc[0,\"ocean_proximity\"]=None"
   ]
  },
  {
   "cell_type": "code",
   "execution_count": 381,
   "metadata": {},
   "outputs": [],
   "source": [
    "# convert json and python object\n",
    "sample_json=json.loads(sample_data.to_json(orient=\"records\"))"
   ]
  },
  {
   "cell_type": "markdown",
   "metadata": {},
   "source": [
    "### pydantic"
   ]
  },
  {
   "cell_type": "code",
   "execution_count": 327,
   "metadata": {},
   "outputs": [],
   "source": [
    "from pydantic import BaseModel,parse_obj_as,ValidationError"
   ]
  },
  {
   "cell_type": "markdown",
   "metadata": {
    "collapsed": "true"
   },
   "source": [
    "#### Examples"
   ]
  },
  {
   "cell_type": "code",
   "execution_count": 128,
   "metadata": {},
   "outputs": [],
   "source": [
    "from pydantic import BaseModel\n",
    "from pydantic import parse_obj_as\n",
    "\n"
   ]
  },
  {
   "cell_type": "code",
   "execution_count": 129,
   "metadata": {},
   "outputs": [],
   "source": [
    "class User(BaseModel):\n",
    "  name: str\n",
    "  age: int"
   ]
  },
  {
   "cell_type": "code",
   "execution_count": 130,
   "metadata": {},
   "outputs": [],
   "source": [
    "users = [\n",
    "    {\"name\": \"user1\", \"age\": 15}, \n",
    "    {\"name\": \"user2\", \"age\": 28}\n",
    "]\n"
   ]
  },
  {
   "cell_type": "code",
   "execution_count": 131,
   "metadata": {},
   "outputs": [],
   "source": [
    "m = parse_obj_as(List[User], users)"
   ]
  },
  {
   "cell_type": "code",
   "execution_count": 132,
   "metadata": {},
   "outputs": [
    {
     "data": {
      "text/plain": [
       "[User(name='user1', age=15), User(name='user2', age=28)]"
      ]
     },
     "execution_count": 132,
     "metadata": {},
     "output_type": "execute_result"
    }
   ],
   "source": [
    "m"
   ]
  },
  {
   "cell_type": "markdown",
   "metadata": {},
   "source": [
    "#### Try with real data "
   ]
  },
  {
   "cell_type": "markdown",
   "metadata": {},
   "source": [
    "**Input data validate**"
   ]
  },
  {
   "cell_type": "code",
   "execution_count": 382,
   "metadata": {},
   "outputs": [],
   "source": [
    "class InputData(BaseModel):\n",
    " \n",
    "    # A sample schema for input unit data\n",
    "    \n",
    "    longitude:float\n",
    "    latitude:float\n",
    "    housing_median_age:float\n",
    "    total_rooms:float\n",
    "    total_bedrooms:float\n",
    "    population:float\n",
    "    households:float\n",
    "    median_income:float\n",
    "    ocean_proximity:str\n",
    "\n",
    "class InputList(BaseModel):\n",
    "    \n",
    "    # input data schema     \n",
    "    data: List[InputData]"
   ]
  },
  {
   "cell_type": "code",
   "execution_count": 390,
   "metadata": {},
   "outputs": [],
   "source": [
    "# check errors\n",
    "errors=None\n",
    "try:\n",
    "    m=InputList(data=sample_json,many=True)\n",
    "    \n",
    "except ValidationError as e:\n",
    "    errors=e.errors()"
   ]
  },
  {
   "cell_type": "code",
   "execution_count": 392,
   "metadata": {},
   "outputs": [],
   "source": [
    "# delete error rows\n",
    "if errors:\n",
    "    # find errors index\n",
    "    indexes=[i[\"loc\"][1] for i in errors]\n",
    "    #print(indexes)\n",
    "\n",
    "    for index in sorted(indexes,reverse=True):\n",
    "        del sample_json[index]"
   ]
  },
  {
   "cell_type": "code",
   "execution_count": 393,
   "metadata": {},
   "outputs": [],
   "source": [
    "def validate_inputs(input_data):\n",
    "    \n",
    "    # Check input data and remove errors\n",
    "    \n",
    "    # check errors\n",
    "    errors=None\n",
    "    try:\n",
    "        m=InputList(data=input_data,many=True)\n",
    "\n",
    "    except ValidationError as e:\n",
    "        errors=e.errors()\n",
    "        \n",
    "    # delete error rows\n",
    "    if errors:\n",
    "        # find errors index\n",
    "        indexes=[i[\"loc\"][1] for i in errors]\n",
    "        #print(indexes)\n",
    "\n",
    "        for index in sorted(indexes,reverse=True):\n",
    "            del input_data[index]\n",
    "            \n",
    "    return input_data,errors"
   ]
  },
  {
   "cell_type": "code",
   "execution_count": 321,
   "metadata": {},
   "outputs": [],
   "source": []
  },
  {
   "cell_type": "markdown",
   "metadata": {
    "collapsed": "true"
   },
   "source": [
    "### Marshmallow "
   ]
  },
  {
   "cell_type": "code",
   "execution_count": 338,
   "metadata": {},
   "outputs": [],
   "source": [
    "class InputDataSchema(Schema):\n",
    "    longitude:fields.Float()\n",
    "    latitude:fields.Float()\n",
    "    housing_median_age:fields.Float()\n",
    "    total_rooms:fields.Float()\n",
    "    total_bedrooms:fields.Float()\n",
    "    population:fields.Float()\n",
    "    households:fields.Float()\n",
    "    median_income:fields.Float()\n",
    "    ocean_proximity:fields.Str()\n",
    "        \n",
    "   "
   ]
  },
  {
   "cell_type": "code",
   "execution_count": 342,
   "metadata": {},
   "outputs": [],
   "source": [
    "schema = InputDataSchema(strict=True, many=True)\n"
   ]
  },
  {
   "cell_type": "code",
   "execution_count": 341,
   "metadata": {},
   "outputs": [
    {
     "data": {
      "text/plain": [
       "UnmarshalResult(data=[{}, {}, {}, {}, {}, {}, {}, {}, {}, {}, {}, {}], errors={})"
      ]
     },
     "execution_count": 341,
     "metadata": {},
     "output_type": "execute_result"
    }
   ],
   "source": [
    "schema.load(sample_json)"
   ]
  },
  {
   "cell_type": "code",
   "execution_count": null,
   "metadata": {},
   "outputs": [],
   "source": []
  },
  {
   "cell_type": "code",
   "execution_count": 343,
   "metadata": {},
   "outputs": [],
   "source": [
    "errors=None\n",
    "\n",
    "try:\n",
    "    schema.load(sample_json)\n",
    "except ValidationError as exc:\n",
    "    errors=exc.messages"
   ]
  },
  {
   "cell_type": "code",
   "execution_count": 77,
   "metadata": {},
   "outputs": [
    {
     "name": "stdout",
     "output_type": "stream",
     "text": [
      "<class 'pandas.core.frame.DataFrame'>\n",
      "RangeIndex: 1 entries, 0 to 0\n",
      "Data columns (total 9 columns):\n",
      " #   Column              Non-Null Count  Dtype  \n",
      "---  ------              --------------  -----  \n",
      " 0   longitude           1 non-null      float64\n",
      " 1   latitude            1 non-null      float64\n",
      " 2   housing_median_age  1 non-null      float64\n",
      " 3   total_rooms         1 non-null      float64\n",
      " 4   total_bedrooms      1 non-null      float64\n",
      " 5   population          1 non-null      float64\n",
      " 6   households          1 non-null      float64\n",
      " 7   median_income       1 non-null      float64\n",
      " 8   ocean_proximity     1 non-null      object \n",
      "dtypes: float64(8), object(1)\n",
      "memory usage: 200.0+ bytes\n"
     ]
    }
   ],
   "source": [
    "sample_data.info()"
   ]
  },
  {
   "cell_type": "code",
   "execution_count": 75,
   "metadata": {},
   "outputs": [
    {
     "ename": "SyntaxError",
     "evalue": "invalid syntax (<ipython-input-75-4d67b6505afe>, line 1)",
     "output_type": "error",
     "traceback": [
      "\u001b[0;36m  File \u001b[0;32m\"<ipython-input-75-4d67b6505afe>\"\u001b[0;36m, line \u001b[0;32m1\u001b[0m\n\u001b[0;31m    class InputData(BaseModel)\u001b[0m\n\u001b[0m                              ^\u001b[0m\n\u001b[0;31mSyntaxError\u001b[0m\u001b[0;31m:\u001b[0m invalid syntax\n"
     ]
    }
   ],
   "source": [
    "class InputData(BaseModel):\n",
    "    lo"
   ]
  },
  {
   "cell_type": "code",
   "execution_count": null,
   "metadata": {},
   "outputs": [],
   "source": [
    "class User(BaseModel):\n",
    "    id: int\n",
    "    name = 'John Doe'\n",
    "    signup_ts: Optional[datetime] = None\n",
    "    friends: List[int] = []\n",
    "\n",
    "\n",
    "external_data = {\n",
    "    'id': '123',\n",
    "    'signup_ts': '2019-06-01 12:22',\n",
    "    'friends': [1, 2, '3'],\n",
    "}\n",
    "user = User(**external_data)\n",
    "print(user.id)\n",
    "#> 123\n",
    "print(repr(user.signup_ts))\n",
    "#> datetime.datetime(2019, 6, 1, 12, 22)\n",
    "print(user.friends)\n",
    "#> [1, 2, 3]\n",
    "print(user.dict())\n",
    "\"\"\"\n",
    "{\n",
    "    'id': 123,\n",
    "    'signup_ts': datetime.datetime(2019, 6, 1, 12, 22),\n",
    "    'friends': [1, 2, 3],\n",
    "    'name': 'John Doe',\n",
    "}\n",
    "\"\"\""
   ]
  },
  {
   "cell_type": "code",
   "execution_count": null,
   "metadata": {},
   "outputs": [],
   "source": []
  },
  {
   "cell_type": "code",
   "execution_count": 71,
   "metadata": {},
   "outputs": [],
   "source": [
    "\n",
    "\n",
    "\n",
    "class User(BaseModel):\n",
    "    id: int\n",
    "    name = 'John Doe'\n",
    "    signup_ts: Optional[datetime] = None\n",
    "    friends: List[int] = []\n",
    "\n",
    "\n"
   ]
  },
  {
   "cell_type": "code",
   "execution_count": 90,
   "metadata": {},
   "outputs": [
    {
     "data": {
      "text/plain": [
       "typing.Optional"
      ]
     },
     "execution_count": 90,
     "metadata": {},
     "output_type": "execute_result"
    }
   ],
   "source": [
    "Opti"
   ]
  },
  {
   "cell_type": "code",
   "execution_count": 85,
   "metadata": {},
   "outputs": [],
   "source": [
    "s={12,12}"
   ]
  },
  {
   "cell_type": "code",
   "execution_count": 81,
   "metadata": {},
   "outputs": [],
   "source": [
    "s=(12,2)"
   ]
  },
  {
   "cell_type": "code",
   "execution_count": 87,
   "metadata": {},
   "outputs": [
    {
     "data": {
      "text/plain": [
       "set"
      ]
     },
     "execution_count": 87,
     "metadata": {},
     "output_type": "execute_result"
    }
   ],
   "source": [
    "type(s)"
   ]
  },
  {
   "cell_type": "code",
   "execution_count": 74,
   "metadata": {},
   "outputs": [
    {
     "ename": "ValidationError",
     "evalue": "1 validation error for User\nid\n  value is not a valid integer (type=type_error.integer)",
     "output_type": "error",
     "traceback": [
      "\u001b[0;31m---------------------------------------------------------------------------\u001b[0m",
      "\u001b[0;31mValidationError\u001b[0m                           Traceback (most recent call last)",
      "\u001b[0;32m<ipython-input-74-73a240469e5a>\u001b[0m in \u001b[0;36m<module>\u001b[0;34m\u001b[0m\n\u001b[1;32m      4\u001b[0m     \u001b[0;34m'friends'\u001b[0m\u001b[0;34m:\u001b[0m \u001b[0;34m[\u001b[0m\u001b[0;36m1\u001b[0m\u001b[0;34m,\u001b[0m \u001b[0;36m2\u001b[0m\u001b[0;34m,\u001b[0m \u001b[0;34m'3'\u001b[0m\u001b[0;34m]\u001b[0m\u001b[0;34m,\u001b[0m\u001b[0;34m\u001b[0m\u001b[0;34m\u001b[0m\u001b[0m\n\u001b[1;32m      5\u001b[0m }\n\u001b[0;32m----> 6\u001b[0;31m \u001b[0muser\u001b[0m \u001b[0;34m=\u001b[0m \u001b[0mUser\u001b[0m\u001b[0;34m(\u001b[0m\u001b[0;34m**\u001b[0m\u001b[0mexternal_data\u001b[0m\u001b[0;34m)\u001b[0m\u001b[0;34m\u001b[0m\u001b[0;34m\u001b[0m\u001b[0m\n\u001b[0m",
      "\u001b[0;32m~/.local/lib/python3.6/site-packages/pydantic/main.cpython-36m-x86_64-linux-gnu.so\u001b[0m in \u001b[0;36mpydantic.main.BaseModel.__init__\u001b[0;34m()\u001b[0m\n",
      "\u001b[0;31mValidationError\u001b[0m: 1 validation error for User\nid\n  value is not a valid integer (type=type_error.integer)"
     ]
    }
   ],
   "source": [
    "external_data = {\n",
    "    'id': {1:2},\n",
    "    'signup_ts': '2019-06-01 12:22',\n",
    "    'friends': [1, 2, '3'],\n",
    "}\n",
    "user = User(**external_data)"
   ]
  },
  {
   "cell_type": "code",
   "execution_count": 73,
   "metadata": {},
   "outputs": [
    {
     "data": {
      "text/plain": [
       "User(id=12, signup_ts=datetime.datetime(2019, 6, 1, 12, 22), friends=[1, 2, 3], name='John Doe')"
      ]
     },
     "execution_count": 73,
     "metadata": {},
     "output_type": "execute_result"
    }
   ],
   "source": [
    "user"
   ]
  },
  {
   "cell_type": "code",
   "execution_count": 64,
   "metadata": {},
   "outputs": [],
   "source": [
    "from pydantic import ValidationError\n",
    "\n",
    "try:\n",
    "    User(signup_ts='broken', friends=[1, 2, 'not number'])\n",
    "except ValidationError as e:\n",
    "    print(e.json())"
   ]
  },
  {
   "cell_type": "code",
   "execution_count": 95,
   "metadata": {},
   "outputs": [
    {
     "ename": "ValidationError",
     "evalue": "1 validation error for User\npassword\n  value is not a valid integer (type=type_error.integer)",
     "output_type": "error",
     "traceback": [
      "\u001b[0;31m---------------------------------------------------------------------------\u001b[0m",
      "\u001b[0;31mValidationError\u001b[0m                           Traceback (most recent call last)",
      "\u001b[0;32m<ipython-input-95-ea7ae50a2e0e>\u001b[0m in \u001b[0;36m<module>\u001b[0;34m\u001b[0m\n\u001b[1;32m      8\u001b[0m \u001b[0;34m\u001b[0m\u001b[0m\n\u001b[1;32m      9\u001b[0m \u001b[0;34m\u001b[0m\u001b[0m\n\u001b[0;32m---> 10\u001b[0;31m \u001b[0muser\u001b[0m \u001b[0;34m=\u001b[0m \u001b[0mUser\u001b[0m\u001b[0;34m(\u001b[0m\u001b[0mname\u001b[0m\u001b[0;34m=\u001b[0m\u001b[0;34m\"Redowan Delowar\"\u001b[0m\u001b[0;34m,\u001b[0m \u001b[0musername\u001b[0m\u001b[0;34m=\u001b[0m\u001b[0;34m\"rednafi\"\u001b[0m\u001b[0;34m,\u001b[0m \u001b[0mpassword\u001b[0m\u001b[0;34m=\u001b[0m\u001b[0;34m[\u001b[0m\u001b[0;36m1\u001b[0m\u001b[0;34m,\u001b[0m\u001b[0;36m34\u001b[0m\u001b[0;34m]\u001b[0m\u001b[0;34m)\u001b[0m\u001b[0;34m\u001b[0m\u001b[0;34m\u001b[0m\u001b[0m\n\u001b[0m\u001b[1;32m     11\u001b[0m \u001b[0;34m\u001b[0m\u001b[0m\n\u001b[1;32m     12\u001b[0m \u001b[0mprint\u001b[0m\u001b[0;34m(\u001b[0m\u001b[0muser\u001b[0m\u001b[0;34m)\u001b[0m\u001b[0;34m\u001b[0m\u001b[0;34m\u001b[0m\u001b[0m\n",
      "\u001b[0;32m~/.local/lib/python3.6/site-packages/pydantic/main.cpython-36m-x86_64-linux-gnu.so\u001b[0m in \u001b[0;36mpydantic.main.BaseModel.__init__\u001b[0;34m()\u001b[0m\n",
      "\u001b[0;31mValidationError\u001b[0m: 1 validation error for User\npassword\n  value is not a valid integer (type=type_error.integer)"
     ]
    }
   ],
   "source": [
    "from pydantic import BaseModel\n",
    "\n",
    "\n",
    "class User(BaseModel):\n",
    "    name: str\n",
    "    username: str\n",
    "    password: int\n",
    "\n",
    "\n",
    "user = User(name=\"Redowan Delowar\", username=\"rednafi\", password=[1,34])\n",
    "\n",
    "print(user)"
   ]
  },
  {
   "cell_type": "code",
   "execution_count": null,
   "metadata": {},
   "outputs": [],
   "source": []
  },
  {
   "cell_type": "code",
   "execution_count": null,
   "metadata": {},
   "outputs": [],
   "source": []
  },
  {
   "cell_type": "code",
   "execution_count": null,
   "metadata": {},
   "outputs": [],
   "source": []
  },
  {
   "cell_type": "markdown",
   "metadata": {},
   "source": [
    "###  API Request"
   ]
  },
  {
   "cell_type": "code",
   "execution_count": 9,
   "metadata": {},
   "outputs": [],
   "source": [
    "res=requests.get(\"http://127.0.0.1:5000/version\")"
   ]
  },
  {
   "cell_type": "code",
   "execution_count": 12,
   "metadata": {},
   "outputs": [
    {
     "data": {
      "text/plain": [
       "{'api_version': '0.2.0', 'model_version': '0.1'}"
      ]
     },
     "execution_count": 12,
     "metadata": {},
     "output_type": "execute_result"
    }
   ],
   "source": [
    "res.json()"
   ]
  },
  {
   "cell_type": "code",
   "execution_count": 13,
   "metadata": {},
   "outputs": [],
   "source": [
    "post_json={\"test1\":1,\"test2\":2}\n"
   ]
  },
  {
   "cell_type": "code",
   "execution_count": 14,
   "metadata": {},
   "outputs": [
    {
     "data": {
      "text/plain": [
       "{'test1': 1, 'test2': 2}"
      ]
     },
     "execution_count": 14,
     "metadata": {},
     "output_type": "execute_result"
    }
   ],
   "source": [
    "json.loads(json.dumps(post_json))"
   ]
  },
  {
   "cell_type": "code",
   "execution_count": 15,
   "metadata": {},
   "outputs": [],
   "source": [
    "\n",
    "res=requests.post(\"http://127.0.0.1:5000/test\",json=json.loads(json.dumps(post_json)))"
   ]
  },
  {
   "cell_type": "code",
   "execution_count": 16,
   "metadata": {},
   "outputs": [],
   "source": []
  },
  {
   "cell_type": "code",
   "execution_count": 46,
   "metadata": {},
   "outputs": [],
   "source": [
    "i=image.imread(\"test.jpg\")"
   ]
  },
  {
   "cell_type": "code",
   "execution_count": 31,
   "metadata": {},
   "outputs": [],
   "source": [
    "params = {'param0': 'param0', 'param1': 'param1'}\n",
    "#arr = np.random.rand(10, 10)\n",
    "#data = {'params': params, 'arr': arr.tolist()}\n",
    "data={\"params\":params,\"image\":i.tolist()}\n"
   ]
  },
  {
   "cell_type": "code",
   "execution_count": 54,
   "metadata": {},
   "outputs": [
    {
     "name": "stdout",
     "output_type": "stream",
     "text": [
      "CPU times: user 5.72 ms, sys: 0 ns, total: 5.72 ms\n",
      "Wall time: 6.12 ms\n"
     ]
    }
   ],
   "source": [
    "%%time\n",
    "data = pickle.dumps(i)\n",
    "res=requests.post(\"http://127.0.0.1:5000/test\",data=data)"
   ]
  },
  {
   "cell_type": "code",
   "execution_count": null,
   "metadata": {},
   "outputs": [],
   "source": []
  },
  {
   "cell_type": "code",
   "execution_count": 43,
   "metadata": {},
   "outputs": [
    {
     "name": "stdout",
     "output_type": "stream",
     "text": [
      "CPU times: user 225 ms, sys: 11.4 ms, total: 236 ms\n",
      "Wall time: 633 ms\n"
     ]
    }
   ],
   "source": [
    "%%time\n",
    "res=requests.post(\"http://127.0.0.1:5000/test\",json=data)"
   ]
  },
  {
   "cell_type": "code",
   "execution_count": null,
   "metadata": {},
   "outputs": [],
   "source": []
  },
  {
   "cell_type": "code",
   "execution_count": null,
   "metadata": {},
   "outputs": [],
   "source": []
  }
 ],
 "metadata": {
  "kernelspec": {
   "display_name": "Python 3",
   "language": "python",
   "name": "python3"
  },
  "language_info": {
   "codemirror_mode": {
    "name": "ipython",
    "version": 3
   },
   "file_extension": ".py",
   "mimetype": "text/x-python",
   "name": "python",
   "nbconvert_exporter": "python",
   "pygments_lexer": "ipython3",
   "version": "3.6.9-final"
  }
 },
 "nbformat": 4,
 "nbformat_minor": 4
}