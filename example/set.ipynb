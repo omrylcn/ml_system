{
 "cells": [
  {
   "cell_type": "code",
   "execution_count": 3,
   "metadata": {},
   "outputs": [],
   "source": [
    "from config import core"
   ]
  },
  {
   "cell_type": "code",
   "execution_count": 2,
   "metadata": {},
   "outputs": [
    {
     "output_type": "execute_result",
     "data": {
      "text/plain": "TrainConfig(data_path='datasets', training_data_name='train_data.csv', test_data_name='test_data.csv', target_name='median_house_value', model_name='reg_pred', model_version='0.1')"
     },
     "metadata": {},
     "execution_count": 2
    }
   ],
   "source": [
    "core.trc"
   ]
  },
  {
   "cell_type": "code",
   "execution_count": 4,
   "metadata": {},
   "outputs": [
    {
     "output_type": "execute_result",
     "data": {
      "text/plain": "FeatureConfig(num_attribs=['longitude', 'latitude', 'housing_median_age', 'total_rooms', 'total_bedrooms', 'population', 'households', 'median_income'], cat_attribs=['ocean_proximity'], imputer_strategy='median')"
     },
     "metadata": {},
     "execution_count": 4
    }
   ],
   "source": [
    "core.ftc"
   ]
  },
  {
   "cell_type": "code",
   "execution_count": 5,
   "metadata": {},
   "outputs": [
    {
     "output_type": "execute_result",
     "data": {
      "text/plain": "PosixPath('/home/omer/Desktop/Works/ml_system_works/ml_system/example/config')"
     },
     "metadata": {},
     "execution_count": 5
    }
   ],
   "source": [
    "core.CONFIG_MODULE_PATH"
   ]
  },
  {
   "cell_type": "code",
   "execution_count": 6,
   "metadata": {},
   "outputs": [
    {
     "output_type": "execute_result",
     "data": {
      "text/plain": "PosixPath('/home/omer/Desktop/Works/ml_system_works/ml_system/example')"
     },
     "metadata": {},
     "execution_count": 6
    }
   ],
   "source": [
    "core.PACKAGE_PATH"
   ]
  },
  {
   "cell_type": "code",
   "execution_count": 7,
   "metadata": {},
   "outputs": [
    {
     "output_type": "execute_result",
     "data": {
      "text/plain": "PosixPath('/home/omer/Desktop/Works/ml_system_works/ml_system')"
     },
     "metadata": {},
     "execution_count": 7
    }
   ],
   "source": [
    "core.ROOT_PATH"
   ]
  },
  {
   "cell_type": "code",
   "execution_count": null,
   "metadata": {},
   "outputs": [],
   "source": []
  }
 ],
 "metadata": {
  "kernelspec": {
   "display_name": "Python 3",
   "language": "python",
   "name": "python3"
  },
  "language_info": {
   "codemirror_mode": {
    "name": "ipython",
    "version": 3
   },
   "file_extension": ".py",
   "mimetype": "text/x-python",
   "name": "python",
   "nbconvert_exporter": "python",
   "pygments_lexer": "ipython3",
   "version": "3.6.9-final"
  }
 },
 "nbformat": 4,
 "nbformat_minor": 4
}